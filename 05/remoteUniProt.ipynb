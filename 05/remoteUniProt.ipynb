{
 "cells": [
  {
   "cell_type": "code",
   "execution_count": 1,
   "metadata": {},
   "outputs": [
    {
     "data": {
      "text/plain": [
       "<Response [200]>"
      ]
     },
     "execution_count": 1,
     "metadata": {},
     "output_type": "execute_result"
    }
   ],
   "source": [
    "import requests\n",
    "\n",
    "base = 'https://www.uniprot.org/uniprot/'\n",
    "params = {\n",
    "    'query': 'id:P00561 OR id:P00547 OR id:P00934',\n",
    "    'format': 'tab',\n",
    "    'columns': 'id,genes,go'\n",
    "}\n",
    "r = requests.get(base, params=params)\n",
    "r"
   ]
  },
  {
   "cell_type": "code",
   "execution_count": 2,
   "metadata": {},
   "outputs": [
    {
     "data": {
      "text/plain": [
       "'https://www.uniprot.org/uniprot/?query=id%3AP00561+OR+id%3AP00547+OR+id%3AP00934&format=tab&columns=id%2Cgenes%2Cgo'"
      ]
     },
     "execution_count": 2,
     "metadata": {},
     "output_type": "execute_result"
    }
   ],
   "source": [
    "r.url"
   ]
  },
  {
   "cell_type": "code",
   "execution_count": 9,
   "metadata": {},
   "outputs": [
    {
     "name": "stdout",
     "output_type": "stream",
     "text": [
      "Entry\tGene names\tGene ontology (GO)\n",
      "P00934\tthrC b0004 JW0003\tcytosol [GO:0005829]; pyridoxal phosphate binding [GO:0030170]; threonine synthase activity [GO:0004795]; threonine biosynthetic process [GO:0009088]\n",
      "P00561\tthrA thrA1 thrA2 b0002 JW0001\taspartate kinase activity [GO:0004072]; ATP binding [GO:0005524]; homoserine dehydrogenase activity [GO:0004412]; NADP binding [GO:0050661]; homoserine biosynthetic process [GO:0009090]; lysine biosynthetic process via diaminopimelate [GO:0009089]; threonine biosynthetic process [GO:0009088]\n",
      "P00547\tthrB b0003 JW0002\tcytosol [GO:0005829]; ATP binding [GO:0005524]; homoserine kinase activity [GO:0004413]; threonine biosynthetic process [GO:0009088]\n",
      "\n"
     ]
    }
   ],
   "source": [
    "print(r.content.decode('utf-8'))\n",
    "f = open('up.csv', 'w')\n",
    "f.write(r.content.decode('utf-8'))\n",
    "f.close()"
   ]
  },
  {
   "cell_type": "code",
   "execution_count": null,
   "metadata": {},
   "outputs": [],
   "source": []
  }
 ],
 "metadata": {
  "interpreter": {
   "hash": "31f2aee4e71d21fbe5cf8b01ff0e069b9275f58929596ceb00d14d90e3e16cd6"
  },
  "kernelspec": {
   "display_name": "Python 3.8.10 64-bit",
   "language": "python",
   "name": "python3"
  },
  "language_info": {
   "codemirror_mode": {
    "name": "ipython",
    "version": 3
   },
   "file_extension": ".py",
   "mimetype": "text/x-python",
   "name": "python",
   "nbconvert_exporter": "python",
   "pygments_lexer": "ipython3",
   "version": "3.8.10"
  },
  "orig_nbformat": 4
 },
 "nbformat": 4,
 "nbformat_minor": 2
}
