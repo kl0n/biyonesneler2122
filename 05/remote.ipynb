{
 "cells": [
  {
   "cell_type": "code",
   "execution_count": null,
   "metadata": {},
   "outputs": [],
   "source": [
    "import requests\n",
    "\n",
    "esearch = 'https://eutils.ncbi.nlm.nih.gov/entrez/eutils/esearch.fcgi'\n",
    "params = {\n",
    "    'db': 'nuccore',\n",
    "    'term': 'M69051',\n",
    "    'usehistory': 'y'\n",
    "}\n",
    "\n",
    "r = requests.get(esearch, params=params)\n",
    "r "
   ]
  },
  {
   "cell_type": "code",
   "execution_count": null,
   "metadata": {},
   "outputs": [],
   "source": [
    "print(r.url)"
   ]
  },
  {
   "cell_type": "code",
   "execution_count": null,
   "metadata": {},
   "outputs": [],
   "source": [
    "print(r.text)"
   ]
  },
  {
   "cell_type": "code",
   "execution_count": null,
   "metadata": {},
   "outputs": [],
   "source": [
    "r.text.encode()"
   ]
  },
  {
   "cell_type": "code",
   "execution_count": null,
   "metadata": {},
   "outputs": [],
   "source": [
    "from lxml import etree\n",
    "\n",
    "e = etree.fromstring(r.text.encode())\n",
    "webEnv = e.findtext('WebEnv')\n",
    "queryKey = e.findtext('QueryKey')\n",
    "print(webEnv, queryKey)"
   ]
  },
  {
   "cell_type": "code",
   "execution_count": null,
   "metadata": {},
   "outputs": [],
   "source": [
    "efetch = 'https://eutils.ncbi.nlm.nih.gov/entrez/eutils/efetch.fcgi'\n",
    "params = {\n",
    "    'db': 'nuccore',\n",
    "    'query_key': queryKey,\n",
    "    'WebEnv': webEnv,\n",
    "    'rettype': 'gb',\n",
    "    'retmode': 'text'\n",
    "}\n",
    "r = requests.get(efetch, params=params)\n",
    "r"
   ]
  },
  {
   "cell_type": "code",
   "execution_count": null,
   "metadata": {},
   "outputs": [],
   "source": [
    "r.url"
   ]
  },
  {
   "cell_type": "code",
   "execution_count": null,
   "metadata": {},
   "outputs": [],
   "source": [
    "r.text"
   ]
  },
  {
   "cell_type": "code",
   "execution_count": null,
   "metadata": {},
   "outputs": [],
   "source": [
    "efetch = 'https://eutils.ncbi.nlm.nih.gov/entrez/eutils/efetch.fcgi'\n",
    "params = {\n",
    "    'db': 'nuccore',\n",
    "    'query_key': queryKey,\n",
    "    'WebEnv': webEnv,\n",
    "    'rettype': 'ft',\n",
    "    'retmode': 'text'\n",
    "}\n",
    "r = requests.get(efetch, params=params)\n",
    "r"
   ]
  },
  {
   "cell_type": "code",
   "execution_count": null,
   "metadata": {},
   "outputs": [],
   "source": [
    "print(r.content.decode('utf-8'))"
   ]
  },
  {
   "cell_type": "code",
   "execution_count": null,
   "metadata": {},
   "outputs": [],
   "source": [
    "esearch = 'https://eutils.ncbi.nlm.nih.gov/entrez/eutils/esearch.fcgi'\n",
    "params = {\n",
    "    'db': 'nuccore',\n",
    "    'term': 'NC_000913.3[ACCN]',\n",
    "    'usehistory': 'y'\n",
    "}\n",
    "\n",
    "r = requests.get(esearch, params=params)\n",
    "r "
   ]
  },
  {
   "cell_type": "code",
   "execution_count": null,
   "metadata": {},
   "outputs": [],
   "source": [
    "e = etree.fromstring(r.text.encode())\n",
    "webEnv = e.findtext('WebEnv')\n",
    "queryKey = e.findtext('QueryKey')\n",
    "print(webEnv, queryKey)"
   ]
  },
  {
   "cell_type": "code",
   "execution_count": null,
   "metadata": {},
   "outputs": [],
   "source": [
    "params = {\n",
    "    'db': 'nuccore',\n",
    "    'query_key': queryKey,\n",
    "    'WebEnv': webEnv,\n",
    "    'rettype': 'ft',\n",
    "    'retmode': 'text'\n",
    "}\n",
    "r = requests.get(efetch, params=params)\n",
    "r"
   ]
  },
  {
   "cell_type": "code",
   "execution_count": null,
   "metadata": {},
   "outputs": [],
   "source": [
    "r.url"
   ]
  },
  {
   "cell_type": "code",
   "execution_count": null,
   "metadata": {},
   "outputs": [],
   "source": [
    "print(r.content.decode('utf-8'))"
   ]
  }
 ],
 "metadata": {
  "interpreter": {
   "hash": "31f2aee4e71d21fbe5cf8b01ff0e069b9275f58929596ceb00d14d90e3e16cd6"
  },
  "kernelspec": {
   "display_name": "Python 3.8.10 64-bit",
   "language": "python",
   "name": "python3"
  },
  "language_info": {
   "codemirror_mode": {
    "name": "ipython",
    "version": 3
   },
   "file_extension": ".py",
   "mimetype": "text/x-python",
   "name": "python",
   "nbconvert_exporter": "python",
   "pygments_lexer": "ipython3",
   "version": "3.8.10"
  },
  "orig_nbformat": 4
 },
 "nbformat": 4,
 "nbformat_minor": 2
}
