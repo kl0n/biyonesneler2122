{
 "cells": [
  {
   "cell_type": "code",
   "execution_count": null,
   "metadata": {},
   "outputs": [],
   "source": [
    "from ftdb import Ftdb\n",
    "\n",
    "ec = Ftdb('ec.db')\n",
    "ec.ftNCBI(['NC_000913.3'])"
   ]
  },
  {
   "cell_type": "code",
   "execution_count": null,
   "metadata": {},
   "outputs": [],
   "source": [
    "import sqlite3\n",
    "\n",
    "dblst = sqlite3.connect('ec.db')\n",
    "dblst.row_factory = lambda cursor, row: row[0]\n",
    "curlst = dblst.cursor()\n",
    "curlst.execute('select qvalue from qualifiers where qkey = \"db_xref\" and qvalue LIKE \"UniProtKB/Swiss-Prot:%\" LIMIT 20')\n",
    "r = curlst.fetchall()\n",
    "r "
   ]
  },
  {
   "cell_type": "code",
   "execution_count": null,
   "metadata": {},
   "outputs": [],
   "source": [
    "term = ''\n",
    "for a in r:\n",
    "    a = a.split(':')[1]\n",
    "    term = term + 'id:{0} OR '.format(a)\n",
    "\n",
    "term[:-4]"
   ]
  },
  {
   "cell_type": "code",
   "execution_count": null,
   "metadata": {},
   "outputs": [],
   "source": [
    "import requests\n",
    "base = 'https://www.uniprot.org/uniprot/'\n",
    "params = {\n",
    "    'query': term[:-4],\n",
    "    'format': 'tab',\n",
    "    'columns': 'id,genes,go'\n",
    "}\n",
    "r = requests.get(base, params=params)\n",
    "r"
   ]
  },
  {
   "cell_type": "code",
   "execution_count": null,
   "metadata": {},
   "outputs": [],
   "source": [
    "r.url"
   ]
  },
  {
   "cell_type": "code",
   "execution_count": null,
   "metadata": {},
   "outputs": [],
   "source": [
    "from io import StringIO\n",
    "import pandas as pd \n",
    "\n",
    "csv = StringIO(r.text)\n",
    "df = pd.read_csv(csv, sep='\\t')\n",
    "df"
   ]
  },
  {
   "cell_type": "code",
   "execution_count": null,
   "metadata": {},
   "outputs": [],
   "source": [
    "for i,r in df.iterrows():\n",
    "    entry = str(r['Entry'])\n",
    "    geneNames = str(r['Gene names']).split(' ')\n",
    "    go = str(r['Gene ontology (GO)']).split(';')\n",
    "    print(entry, geneNames, go)"
   ]
  },
  {
   "cell_type": "code",
   "execution_count": null,
   "metadata": {},
   "outputs": [],
   "source": [
    "from ftdb import Ftdb\n",
    "import sqlite3\n",
    "\n",
    "dblst = sqlite3.connect('ec.db')\n",
    "dblst.row_factory = lambda cursor, row: row[0]\n",
    "curlst = dblst.cursor()\n",
    "curlst.execute('select qvalue from qualifiers where qkey = \"db_xref\" and qvalue LIKE \"UniProtKB/Swiss-Prot:%\"')\n",
    "r = curlst.fetchall()\n",
    "dblst.close()\n",
    "acclst = []\n",
    "for a in r:\n",
    "    a = a.split(':')[1]\n",
    "    acclst.append(a)\n",
    "\n",
    "ec = Ftdb('ec.db')\n",
    "ec.ftUniProt(acclst)"
   ]
  }
 ],
 "metadata": {
  "interpreter": {
   "hash": "31f2aee4e71d21fbe5cf8b01ff0e069b9275f58929596ceb00d14d90e3e16cd6"
  },
  "kernelspec": {
   "display_name": "Python 3.8.10 64-bit",
   "language": "python",
   "name": "python3"
  },
  "language_info": {
   "codemirror_mode": {
    "name": "ipython",
    "version": 3
   },
   "file_extension": ".py",
   "mimetype": "text/x-python",
   "name": "python",
   "nbconvert_exporter": "python",
   "pygments_lexer": "ipython3",
   "version": "3.8.10"
  },
  "orig_nbformat": 4
 },
 "nbformat": 4,
 "nbformat_minor": 2
}
