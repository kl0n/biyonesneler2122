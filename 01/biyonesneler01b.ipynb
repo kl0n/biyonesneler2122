{
 "cells": [
  {
   "cell_type": "code",
   "execution_count": 1,
   "metadata": {},
   "outputs": [
    {
     "data": {
      "text/html": [
       "<div>\n",
       "<style scoped>\n",
       "    .dataframe tbody tr th:only-of-type {\n",
       "        vertical-align: middle;\n",
       "    }\n",
       "\n",
       "    .dataframe tbody tr th {\n",
       "        vertical-align: top;\n",
       "    }\n",
       "\n",
       "    .dataframe thead th {\n",
       "        text-align: right;\n",
       "    }\n",
       "</style>\n",
       "<table border=\"1\" class=\"dataframe\">\n",
       "  <thead>\n",
       "    <tr style=\"text-align: right;\">\n",
       "      <th></th>\n",
       "      <th>t</th>\n",
       "      <th>OD600</th>\n",
       "    </tr>\n",
       "  </thead>\n",
       "  <tbody>\n",
       "    <tr>\n",
       "      <th>0</th>\n",
       "      <td>0</td>\n",
       "      <td>0.020000</td>\n",
       "    </tr>\n",
       "    <tr>\n",
       "      <th>1</th>\n",
       "      <td>12000</td>\n",
       "      <td>0.348954</td>\n",
       "    </tr>\n",
       "    <tr>\n",
       "      <th>2</th>\n",
       "      <td>15300</td>\n",
       "      <td>0.757353</td>\n",
       "    </tr>\n",
       "    <tr>\n",
       "      <th>3</th>\n",
       "      <td>18000</td>\n",
       "      <td>1.144506</td>\n",
       "    </tr>\n",
       "    <tr>\n",
       "      <th>4</th>\n",
       "      <td>19200</td>\n",
       "      <td>1.547964</td>\n",
       "    </tr>\n",
       "    <tr>\n",
       "      <th>5</th>\n",
       "      <td>22200</td>\n",
       "      <td>2.288233</td>\n",
       "    </tr>\n",
       "    <tr>\n",
       "      <th>6</th>\n",
       "      <td>25200</td>\n",
       "      <td>3.045034</td>\n",
       "    </tr>\n",
       "    <tr>\n",
       "      <th>7</th>\n",
       "      <td>28500</td>\n",
       "      <td>3.453444</td>\n",
       "    </tr>\n",
       "    <tr>\n",
       "      <th>8</th>\n",
       "      <td>32700</td>\n",
       "      <td>3.815483</td>\n",
       "    </tr>\n",
       "  </tbody>\n",
       "</table>\n",
       "</div>"
      ],
      "text/plain": [
       "       t     OD600\n",
       "0      0  0.020000\n",
       "1  12000  0.348954\n",
       "2  15300  0.757353\n",
       "3  18000  1.144506\n",
       "4  19200  1.547964\n",
       "5  22200  2.288233\n",
       "6  25200  3.045034\n",
       "7  28500  3.453444\n",
       "8  32700  3.815483"
      ]
     },
     "execution_count": 1,
     "metadata": {},
     "output_type": "execute_result"
    }
   ],
   "source": [
    "import pandas \n",
    "\n",
    "g = pandas.read_csv('growth.csv', sep='\\t')\n",
    "g"
   ]
  },
  {
   "cell_type": "code",
   "execution_count": 2,
   "metadata": {},
   "outputs": [],
   "source": [
    "x = g['t'].to_numpy()\n",
    "y = g['OD600'].to_numpy()"
   ]
  },
  {
   "cell_type": "code",
   "execution_count": 3,
   "metadata": {},
   "outputs": [
    {
     "data": {
      "text/plain": [
       "<matplotlib.collections.PathCollection at 0x7fb35755dd60>"
      ]
     },
     "execution_count": 3,
     "metadata": {},
     "output_type": "execute_result"
    },
    {
     "data": {
      "image/png": "[encoded data removed]",
      "text/plain": [
       "<Figure size 432x288 with 1 Axes>"
      ]
     },
     "metadata": {
      "needs_background": "light"
     },
     "output_type": "display_data"
    }
   ],
   "source": [
    "import matplotlib.pyplot as pp \n",
    "\n",
    "pp.scatter(x, y, marker='x', color='r')"
   ]
  },
  {
   "cell_type": "code",
   "execution_count": 4,
   "metadata": {},
   "outputs": [
    {
     "name": "stdout",
     "output_type": "stream",
     "text": [
      "[ 1.44441377e+00  4.30763352e-05 -1.72780096e+00]\n",
      "[[ 1.60041127e+00 -2.48865005e-05 -1.95501429e+00]\n",
      " [-2.48865005e-05  3.92163798e-10  2.99884357e-05]\n",
      " [-1.95501429e+00  2.99884357e-05  2.43737589e+00]]\n"
     ]
    }
   ],
   "source": [
    "from scipy.optimize import curve_fit\n",
    "import numpy\n",
    "\n",
    "def f_exp(x, a, b, c):\n",
    "    return a * numpy.exp(b*x) + c\n",
    "\n",
    "popt, pcov = curve_fit(f=f_exp, xdata=x, ydata=y, p0=(0.01, 0.0002, 2))\n",
    "print(popt)\n",
    "print(pcov)"
   ]
  },
  {
   "cell_type": "code",
   "execution_count": 22,
   "metadata": {},
   "outputs": [
    {
     "data": {
      "text/plain": [
       "<matplotlib.collections.PathCollection at 0x7fdc4697dc40>"
      ]
     },
     "execution_count": 22,
     "metadata": {},
     "output_type": "execute_result"
    },
    {
     "data": {
      "image/png": "[encoded data removed]",
      "text/plain": [
       "<Figure size 432x288 with 1 Axes>"
      ]
     },
     "metadata": {
      "needs_background": "light"
     },
     "output_type": "display_data"
    }
   ],
   "source": [
    "xp = numpy.linspace(x[0], x[-1], 100)\n",
    "yp = f_exp(xp, *popt)\n",
    "pp.plot(xp, yp, color='b')\n",
    "pp.scatter(x, y, marker='x', color='r')"
   ]
  },
  {
   "cell_type": "code",
   "execution_count": 9,
   "metadata": {},
   "outputs": [
    {
     "name": "stderr",
     "output_type": "stream",
     "text": [
      "<ipython-input-9-474c08494452>:2: RuntimeWarning: divide by zero encountered in power\n",
      "  return (a - b) / (1 + (x / c)**b) + d\n",
      "<ipython-input-9-474c08494452>:2: RuntimeWarning: invalid value encountered in power\n",
      "  return (a - b) / (1 + (x / c)**b) + d\n"
     ]
    },
    {
     "data": {
      "text/plain": [
       "<matplotlib.collections.PathCollection at 0x7fb34f879310>"
      ]
     },
     "execution_count": 9,
     "metadata": {},
     "output_type": "execute_result"
    },
    {
     "data": {
      "image/png": "[encoded data removed]",
      "text/plain": [
       "<Figure size 432x288 with 1 Axes>"
      ]
     },
     "metadata": {
      "needs_background": "light"
     },
     "output_type": "display_data"
    }
   ],
   "source": [
    "def f_logistic(x, a, b, c, d):\n",
    "    return (a - b) / (1 + (x / c)**b) + d\n",
    "\n",
    "popt, pcov =curve_fit(f=f_logistic, xdata=x, ydata=y, p0=(4, 0.02, 3, 1))\n",
    "xp = numpy.linspace(x[0], x[-1], 100)\n",
    "yp = f_logistic(xp, *popt)\n",
    "pp.plot(xp, yp)\n",
    "pp.scatter(x, y, marker='x', color='r')"
   ]
  }
 ],
 "metadata": {
  "interpreter": {
   "hash": "916dbcbb3f70747c44a77c7bcd40155683ae19c65e1c03b4aa3499c5328201f1"
  },
  "kernelspec": {
   "display_name": "Python 3",
   "language": "python",
   "name": "python3"
  },
  "language_info": {
   "codemirror_mode": {
    "name": "ipython",
    "version": 3
   },
   "file_extension": ".py",
   "mimetype": "text/x-python",
   "name": "python",
   "nbconvert_exporter": "python",
   "pygments_lexer": "ipython3",
   "version": "3.8.10"
  }
 },
 "nbformat": 4,
 "nbformat_minor": 4
}
