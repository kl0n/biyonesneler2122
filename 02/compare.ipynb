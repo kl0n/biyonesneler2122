{
 "cells": [
  {
   "cell_type": "code",
   "execution_count": 4,
   "metadata": {},
   "outputs": [
    {
     "name": "stdout",
     "output_type": "stream",
     "text": [
      "3 - ...T..GGGG.G..TCC.C. - (0.5)\n",
      "53 - ..A..C..A.CTTC..C.T. - (0.55)\n",
      "55 - A.....AC.T..CT.ATCC. - (0.5)\n",
      "65 - T..T.ATC..CA..GAG... - (0.5)\n",
      "66 - C.T.A..C..AG..AG.GC. - (0.5)\n",
      "85 - CT......A...A.TG.CCA - (0.55)\n",
      "100 - .A..AG.C....TC..CG.. - (0.6)\n",
      "105 - .................... - (1.0)\n"
     ]
    }
   ],
   "source": [
    "s = \"GGCGCCTCTGGGGTGGGTCCACCCAAGGTTAGCCAGGAGAGTCCGGGAGGCCGGCACCCCTACCTTCCTCATCCCCAGGGAGAGCCTCCCTCTACTCAGTGACCAGCCCCTCTCCTCGGCTAAGCCGGAGGAGTGAAGGTCCTCATCACAGGCCCGTGGCAAGAAGCCAGCAATAACTACAGCTGCCTGTTTGACCAGATCTCAGTGCCT\"\n",
    "q = \"GCCCCTCTCCTCGGCTAAGC\"\n",
    "\n",
    "for i in range(0, len(s)-len(q)):\n",
    "    score = 0\n",
    "    alignment = ''\n",
    "    for j in range(0, len(q)):\n",
    "        if q[j] == s[i+j]:\n",
    "            score = score + 1\n",
    "            alignment = alignment + '.'\n",
    "        else:\n",
    "            alignment = alignment + s[i+j]\n",
    "    percentMatch = score / len(q)\n",
    "    if percentMatch >= 0.5:\n",
    "        print('{0} - {1} - ({2})'.format(i, alignment, percentMatch))"
   ]
  },
  {
   "cell_type": "code",
   "execution_count": 9,
   "metadata": {},
   "outputs": [
    {
     "name": "stdout",
     "output_type": "stream",
     "text": [
      "key1 ---> rr\n",
      "key2 ---> 22.9\n",
      "zoppik ---> what's zoppik?\n"
     ]
    }
   ],
   "source": [
    "d = {\n",
    "    'key1': 65,\n",
    "    'key2': 22.9,\n",
    "    'zoppik': \"what's zoppik?\",\n",
    "    'key1': 'rr'  # keys are unique\n",
    "}\n",
    "\n",
    "for k,v in d.items():\n",
    "    print('{0} ---> {1}'.format(k, v))"
   ]
  },
  {
   "cell_type": "code",
   "execution_count": 24,
   "metadata": {},
   "outputs": [],
   "source": [
    "def align(s, q, threshold):\n",
    "    results = []\n",
    "    for i in range(0, len(s)-len(q)):\n",
    "        score = 0\n",
    "        alignment = ''\n",
    "        for j in range(0, len(q)):\n",
    "            if q[j] == s[i+j]:\n",
    "                score = score + 1\n",
    "                alignment = alignment + '.'\n",
    "            else:\n",
    "                alignment = alignment + s[i+j]\n",
    "        percentMatch = score / len(q)\n",
    "        if percentMatch >= threshold:\n",
    "            # print('{0} - {1} - ({2})'.format(i, alignment, percentMatch))\n",
    "            results.append((i, alignment, percentMatch))\n",
    "    return results"
   ]
  },
  {
   "cell_type": "code",
   "execution_count": 27,
   "metadata": {},
   "outputs": [
    {
     "name": "stdout",
     "output_type": "stream",
     "text": [
      "M21012.1: 1679 == (691, '..................', 1.0)\n",
      "NC_001653.2: 1682 == (693, '..................', 1.0)\n",
      "MK234594.1: 1685 == (697, '................C.', 0.9444444444444444)\n",
      "MK234593.1: 1680 == (694, '..................', 1.0)\n"
     ]
    }
   ],
   "source": [
    "f = open('hdv.fasta', 'r')\n",
    "seqCollection = {}\n",
    "line = f.readline()\n",
    "acc = ''\n",
    "while(line):\n",
    "    if line.startswith('>'):\n",
    "        acc = line.split(' ')[0]\n",
    "        acc = acc[1:]\n",
    "        seqCollection[acc] = ''\n",
    "    else:\n",
    "        if len(acc) > 0:\n",
    "            seqCollection[acc] = seqCollection[acc] + line.strip()\n",
    "    line = f.readline()\n",
    "for k,v in seqCollection.items():\n",
    "    print('{0}: {1} == {2}'.format(k, len(v), align(v, 'CATGGTCCCAGCCTCCTC', 0.7)[0]))\n"
   ]
  },
  {
   "cell_type": "code",
   "execution_count": 31,
   "metadata": {},
   "outputs": [
    {
     "data": {
      "text/html": [
       "<div>\n",
       "<style scoped>\n",
       "    .dataframe tbody tr th:only-of-type {\n",
       "        vertical-align: middle;\n",
       "    }\n",
       "\n",
       "    .dataframe tbody tr th {\n",
       "        vertical-align: top;\n",
       "    }\n",
       "\n",
       "    .dataframe thead th {\n",
       "        text-align: right;\n",
       "    }\n",
       "</style>\n",
       "<table border=\"1\" class=\"dataframe\">\n",
       "  <thead>\n",
       "    <tr style=\"text-align: right;\">\n",
       "      <th></th>\n",
       "      <th>accession</th>\n",
       "      <th>length</th>\n",
       "      <th>start</th>\n",
       "      <th>alignment</th>\n",
       "      <th>score</th>\n",
       "    </tr>\n",
       "  </thead>\n",
       "  <tbody>\n",
       "    <tr>\n",
       "      <th>0</th>\n",
       "      <td>M21012.1</td>\n",
       "      <td>1679</td>\n",
       "      <td>691</td>\n",
       "      <td>..................</td>\n",
       "      <td>1.000000</td>\n",
       "    </tr>\n",
       "    <tr>\n",
       "      <th>1</th>\n",
       "      <td>NC_001653.2</td>\n",
       "      <td>1682</td>\n",
       "      <td>693</td>\n",
       "      <td>..................</td>\n",
       "      <td>1.000000</td>\n",
       "    </tr>\n",
       "    <tr>\n",
       "      <th>2</th>\n",
       "      <td>MK234594.1</td>\n",
       "      <td>1685</td>\n",
       "      <td>697</td>\n",
       "      <td>................C.</td>\n",
       "      <td>0.944444</td>\n",
       "    </tr>\n",
       "    <tr>\n",
       "      <th>3</th>\n",
       "      <td>MK234593.1</td>\n",
       "      <td>1680</td>\n",
       "      <td>694</td>\n",
       "      <td>..................</td>\n",
       "      <td>1.000000</td>\n",
       "    </tr>\n",
       "  </tbody>\n",
       "</table>\n",
       "</div>"
      ],
      "text/plain": [
       "     accession  length  start           alignment     score\n",
       "0     M21012.1    1679    691  ..................  1.000000\n",
       "1  NC_001653.2    1682    693  ..................  1.000000\n",
       "2   MK234594.1    1685    697  ................C.  0.944444\n",
       "3   MK234593.1    1680    694  ..................  1.000000"
      ]
     },
     "execution_count": 31,
     "metadata": {},
     "output_type": "execute_result"
    }
   ],
   "source": [
    "import pandas as pd \n",
    "\n",
    "dflist = []\n",
    "\n",
    "for k,v in seqCollection.items():\n",
    "    a = align(v, 'CATGGTCCCAGCCTCCTC', 0.7)[0]\n",
    "    dfrow ={\n",
    "        'accession': k,\n",
    "        'length': len(v),\n",
    "        'start': a[0],\n",
    "        'alignment': a[1],\n",
    "        'score': a[2]\n",
    "    }\n",
    "    dflist.append(dfrow)\n",
    "df = pd.DataFrame(dflist)\n",
    "df.to_csv('out.csv', sep='\\t')\n",
    "df"
   ]
  }
 ],
 "metadata": {
  "interpreter": {
   "hash": "916dbcbb3f70747c44a77c7bcd40155683ae19c65e1c03b4aa3499c5328201f1"
  },
  "kernelspec": {
   "display_name": "Python 3.8.10 64-bit",
   "language": "python",
   "name": "python3"
  },
  "language_info": {
   "codemirror_mode": {
    "name": "ipython",
    "version": 3
   },
   "file_extension": ".py",
   "mimetype": "text/x-python",
   "name": "python",
   "nbconvert_exporter": "python",
   "pygments_lexer": "ipython3",
   "version": "3.8.10"
  },
  "orig_nbformat": 4
 },
 "nbformat": 4,
 "nbformat_minor": 2
}
