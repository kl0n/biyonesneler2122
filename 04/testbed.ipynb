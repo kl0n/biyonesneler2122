{
 "cells": [
  {
   "cell_type": "code",
   "execution_count": 1,
   "metadata": {},
   "outputs": [
    {
     "name": "stdout",
     "output_type": "stream",
     "text": [
      "SubsMat initialized...\n",
      "{'A': {'A': 5, 'T': -4, 'G': -4, 'C': -4, 'S': -4, 'W': 1, 'R': 1, 'Y': -4, 'K': -4, 'M': 1, 'B': -4, 'V': -1, 'H': -1, 'D': -1, 'N': -2}, 'T': {'A': -4, 'T': 5, 'G': -4, 'C': -4, 'S': -4, 'W': 1, 'R': -4, 'Y': 1, 'K': 1, 'M': -4, 'B': -1, 'V': -4, 'H': -1, 'D': -1, 'N': -2}, 'G': {'A': -4, 'T': -4, 'G': 5, 'C': -4, 'S': 1, 'W': -4, 'R': 1, 'Y': -4, 'K': 1, 'M': -4, 'B': -1, 'V': -1, 'H': -4, 'D': -1, 'N': -2}, 'C': {'A': -4, 'T': -4, 'G': -4, 'C': 5, 'S': 1, 'W': -4, 'R': -4, 'Y': 1, 'K': -4, 'M': 1, 'B': -1, 'V': -1, 'H': -1, 'D': -4, 'N': -2}, 'S': {'A': -4, 'T': -4, 'G': 1, 'C': 1, 'S': -1, 'W': -4, 'R': -2, 'Y': -2, 'K': -2, 'M': -2, 'B': -1, 'V': -1, 'H': -3, 'D': -3, 'N': -1}, 'W': {'A': 1, 'T': 1, 'G': -4, 'C': -4, 'S': -4, 'W': -1, 'R': -2, 'Y': -2, 'K': -2, 'M': -2, 'B': -3, 'V': -3, 'H': -1, 'D': -1, 'N': -1}, 'R': {'A': 1, 'T': -4, 'G': 1, 'C': -4, 'S': -2, 'W': -2, 'R': -1, 'Y': -4, 'K': -2, 'M': -2, 'B': -3, 'V': -1, 'H': -3, 'D': -1, 'N': -1}, 'Y': {'A': -4, 'T': 1, 'G': -4, 'C': 1, 'S': -2, 'W': -2, 'R': -4, 'Y': -1, 'K': -2, 'M': -2, 'B': -1, 'V': -3, 'H': -1, 'D': -3, 'N': -1}, 'K': {'A': -4, 'T': 1, 'G': 1, 'C': -4, 'S': -2, 'W': -2, 'R': -2, 'Y': -2, 'K': -1, 'M': -4, 'B': -1, 'V': -3, 'H': -3, 'D': -1, 'N': -1}, 'M': {'A': 1, 'T': -4, 'G': -4, 'C': 1, 'S': -2, 'W': -2, 'R': -2, 'Y': -2, 'K': -4, 'M': -1, 'B': -3, 'V': -1, 'H': -1, 'D': -3, 'N': -1}, 'B': {'A': -4, 'T': -1, 'G': -1, 'C': -1, 'S': -1, 'W': -3, 'R': -3, 'Y': -1, 'K': -1, 'M': -3, 'B': -1, 'V': -2, 'H': -2, 'D': -2, 'N': -1}, 'V': {'A': -1, 'T': -4, 'G': -1, 'C': -1, 'S': -1, 'W': -3, 'R': -1, 'Y': -3, 'K': -3, 'M': -1, 'B': -2, 'V': -1, 'H': -2, 'D': -2, 'N': -1}, 'H': {'A': -1, 'T': -1, 'G': -4, 'C': -1, 'S': -3, 'W': -1, 'R': -3, 'Y': -1, 'K': -3, 'M': -1, 'B': -2, 'V': -2, 'H': -1, 'D': -2, 'N': -1}, 'D': {'A': -1, 'T': -1, 'G': -1, 'C': -4, 'S': -3, 'W': -1, 'R': -1, 'Y': -3, 'K': -1, 'M': -3, 'B': -2, 'V': -2, 'H': -2, 'D': -1, 'N': -1}, 'N': {'A': -2, 'T': -2, 'G': -2, 'C': -2, 'S': -1, 'W': -1, 'R': -1, 'Y': -1, 'K': -1, 'M': -1, 'B': -1, 'V': -1, 'H': -1, 'D': -1, 'N': -1}}\n"
     ]
    }
   ],
   "source": [
    "from bio import SubsMat\n",
    "\n",
    "sm = SubsMat('nuc.4.4')"
   ]
  },
  {
   "cell_type": "code",
   "execution_count": 2,
   "metadata": {},
   "outputs": [
    {
     "name": "stdout",
     "output_type": "stream",
     "text": [
      "1\n"
     ]
    }
   ],
   "source": [
    "print(sm.score('A', 'W'))"
   ]
  },
  {
   "cell_type": "code",
   "execution_count": 3,
   "metadata": {},
   "outputs": [
    {
     "name": "stdout",
     "output_type": "stream",
     "text": [
      "hello!\n"
     ]
    }
   ],
   "source": [
    "SubsMat.hello()"
   ]
  },
  {
   "cell_type": "code",
   "execution_count": 4,
   "metadata": {},
   "outputs": [
    {
     "name": "stdout",
     "output_type": "stream",
     "text": [
      "   A  T  G  C  S  W  R  Y  K  M  B  V  H  D  N\n",
      "A  5 -4 -4 -4 -4  1  1 -4 -4  1 -4 -1 -1 -1 -2\n",
      "T -4  5 -4 -4 -4  1 -4  1  1 -4 -1 -4 -1 -1 -2\n",
      "G -4 -4  5 -4  1 -4  1 -4  1 -4 -1 -1 -4 -1 -2\n",
      "C -4 -4 -4  5  1 -4 -4  1 -4  1 -1 -1 -1 -4 -2\n",
      "S -4 -4  1  1 -1 -4 -2 -2 -2 -2 -1 -1 -3 -3 -1\n",
      "W  1  1 -4 -4 -4 -1 -2 -2 -2 -2 -3 -3 -1 -1 -1\n",
      "R  1 -4  1 -4 -2 -2 -1 -4 -2 -2 -3 -1 -3 -1 -1\n",
      "Y -4  1 -4  1 -2 -2 -4 -1 -2 -2 -1 -3 -1 -3 -1\n",
      "K -4  1  1 -4 -2 -2 -2 -2 -1 -4 -1 -3 -3 -1 -1\n",
      "M  1 -4 -4  1 -2 -2 -2 -2 -4 -1 -3 -1 -1 -3 -1\n",
      "B -4 -1 -1 -1 -1 -3 -3 -1 -1 -3 -1 -2 -2 -2 -1\n",
      "V -1 -4 -1 -1 -1 -3 -1 -3 -3 -1 -2 -1 -2 -2 -1\n",
      "H -1 -1 -4 -1 -3 -1 -3 -1 -3 -1 -2 -2 -1 -2 -1\n",
      "D -1 -1 -1 -4 -3 -1 -1 -3 -1 -3 -2 -2 -2 -1 -1\n",
      "N -2 -2 -2 -2 -1 -1 -1 -1 -1 -1 -1 -1 -1 -1 -1\n"
     ]
    }
   ],
   "source": [
    "print(sm)"
   ]
  },
  {
   "cell_type": "code",
   "execution_count": 1,
   "metadata": {},
   "outputs": [
    {
     "name": "stdout",
     "output_type": "stream",
     "text": [
      "someid: 16 letters\n"
     ]
    }
   ],
   "source": [
    "from bio import Sequence\n",
    "\n",
    "seq = Sequence('someid', 'ATGATGCTGATGCTAG')\n",
    "print(seq)"
   ]
  },
  {
   "cell_type": "code",
   "execution_count": 1,
   "metadata": {},
   "outputs": [
    {
     "name": "stdout",
     "output_type": "stream",
     "text": [
      "## Sequence class init active...\n",
      "## DNA class init active\n",
      "someDNA: 13 bases\n"
     ]
    }
   ],
   "source": [
    "from bio import DNA\n",
    "\n",
    "dna = DNA('someDNA', 'ATGTCGTAGCTGA')\n",
    "print(dna)"
   ]
  },
  {
   "cell_type": "code",
   "execution_count": 1,
   "metadata": {},
   "outputs": [
    {
     "name": "stdout",
     "output_type": "stream",
     "text": [
      "## Sequence class init active...\n",
      "## Sequence class init active...\n",
      "## Sequence class init active...\n",
      "## Sequence class init active...\n",
      "['M21012.1', 'NC_001653.2', 'MK234594.1', 'MK234593.1']\n"
     ]
    }
   ],
   "source": [
    "from bio import SeqIO\n",
    "\n",
    "sc = SeqIO('hdv.fasta')\n",
    "print(sc.seqList())"
   ]
  },
  {
   "cell_type": "code",
   "execution_count": 2,
   "metadata": {},
   "outputs": [
    {
     "name": "stdout",
     "output_type": "stream",
     "text": [
      "CCTGAGCCAAGTTCCGAGCGAGGAGACGCGGGGGGAGGATCAGCACCCGAGAGGGGATGTCACGGTAAAGAGCATTGGAACGTCGGAGAAACTACTCCCAAGAAGCAAAGAGAGGTCTTAGGAAGCGGACGAGATCCCCACAACGCCGGAGAATCTCTGGAAGGGGAAAGAGGAAGGTGGAAGAAAAAGGGGCGGGCCTCCCGATCCGAGGGGCCCAATCTCCAGATCTGGAGAGCACTCCGGCCCGAAGGGTTGAGTAGCACTCAGAGGGAGGAATCCACTCGGAGATGAGCAGAGAAATCACCTCCAGAGGACCCCTTCAGCGAACAAGAGGCGCTTCGAGCGGTAGGAGTAAGACCATAGCGATAGGAGGAGATGCTAGGAGTAGGGGGAGACCGAAGCGAGGAGGAAAGCAAAGAAAGCAACGGGGCTAGCCGGTGGGTGTTCCGCCCCCCGAGAGGGGACGAGTGAGGCTTATCCCGGGGAACTCGACTTATCGTCCCCATCTAGCGGGACCCCGGACCCCCTTCGAAAGTGACCGGAGGGGGTGCTGGGAACACCGGGGACCAGTGGAGCCATGGGATGCCCTTCCCGATGCTCGATTCCGACTCCCCCCCCCAAGGGTCGCCCAGGAATGGCGGGACCCCACTCTGCAGGGTCCGCGTTCCATCCTTTCTTACCTGATGGCCGGCATGGTCCCAGCCTCCTCGCTGGCGCCGGCTGGGCAACATTCCGAGGGGACCGTCCCCTCGGTAATGGCGAATGGGACCCACAAATCTCTCTAGATTCCGATAGAGAATCGAGAGAAAAGTGGCTCTCCCTTAGCCATCCGAGTGGACCTGCGTCCTCCTTCGGATGCCCAGGTCGGACCGCGAGGAGGTGGAGATGCCATGCCGACCCGAAGAGGAAAGAAGGACGCGAGACGCAAACCTGTGAGTGGAAACCCGCTTTATTCACTGGGGTCGACAACTCTGGGGAGAAAAGGGCGGATCGGCTGGGAAGAGTATATCCTATGGAAATCCCTGGTTTCCCCTGATGTCCAGCCCCTCCCCGGTCCGAGAGAAGGGGGACTCCGGGACTCCCTGCAGATTGGGGACGAAGCCGCCCCCGGGCGCTCCCCTCGATCCACCTTCGAGGGGGTTCACACCCCCAACCGGCGGGCCGGCTACTCTTCTTTCCCTTCTCTCGTCTTCCTCGGTCAACCTCCTGAGTTCCTCTTCTTCCTCCTTGCTGAGGTTCTTGCCTCCCGCCGATAGCTGCTTCTTCTTGTTCTCGAGGGCCTTCCTTCGTCGGTGATCCTGCCTCTCCTTGTCGGTGAATCCTCCCCTGAGAGGCCTCTTCCGAGGTCCGGAGTCTACCTCCATCTGGTCCGTTCGGGCCCTCTTCGCGGGGGGAGCCCCCTCTCCATCCTTATCCTTCTTTCCGAGAATTCCTTTGATGTTCCCCAGCCAGGGATTTTCGTCCTCTATCTTCTTGAGTTTCTTCTTTGTCTTCCGGAGGTCTCTCTCGAGTTCCTCTAACTTCTTTCTTCCGGCCACCCACTGCTCGAGGATCTCTTCTCTCCCTCCGCGGTTCTTCCTCGACTCGGACCGGCTCATCTCGGCTAGAGGCGGCAGTCCTCAGTACTCTTACACTTTTCTGTAAAGAGGAGACTGCTGGACTCGCCGCCCGAGCCCGAG\n"
     ]
    }
   ],
   "source": [
    "print(sc.gets('M21012.1'))"
   ]
  }
 ],
 "metadata": {
  "interpreter": {
   "hash": "31f2aee4e71d21fbe5cf8b01ff0e069b9275f58929596ceb00d14d90e3e16cd6"
  },
  "kernelspec": {
   "display_name": "Python 3.8.10 64-bit",
   "language": "python",
   "name": "python3"
  },
  "language_info": {
   "codemirror_mode": {
    "name": "ipython",
    "version": 3
   },
   "file_extension": ".py",
   "mimetype": "text/x-python",
   "name": "python",
   "nbconvert_exporter": "python",
   "pygments_lexer": "ipython3",
   "version": "3.8.10"
  },
  "orig_nbformat": 4
 },
 "nbformat": 4,
 "nbformat_minor": 2
}
